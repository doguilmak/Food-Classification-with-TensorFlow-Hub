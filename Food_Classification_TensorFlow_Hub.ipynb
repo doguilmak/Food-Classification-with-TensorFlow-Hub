{
  "nbformat": 4,
  "nbformat_minor": 0,
  "metadata": {
    "accelerator": "GPU",
    "colab": {
      "private_outputs": true,
      "provenance": []
    },
    "kernelspec": {
      "display_name": "Python 3",
      "language": "python",
      "name": "python3"
    },
    "language_info": {
      "codemirror_mode": {
        "name": "ipython",
        "version": 3
      },
      "file_extension": ".py",
      "mimetype": "text/x-python",
      "name": "python",
      "nbconvert_exporter": "python",
      "pygments_lexer": "ipython3",
      "version": "3.7.4"
    }
  },
  "cells": [
    {
      "cell_type": "markdown",
      "source": [
        "<h1 align=center><font size = 6>Food Classification Model with Tensorflow Hub</font></h1>\n",
        "\n",
        "<br>\n",
        "\n",
        "<img src=\"https://i.ytimg.com/vi/yjprpOoH5c8/maxresdefault.jpg\" height=450 width=1000 alt=\"tensorflow.org\">\n",
        "\n",
        "<small>Picture Source:<a href=\"https://www.tensorflow.org/\"> TensorFlow</a></small>\n",
        "\n",
        "<br>\n",
        "\n",
        "<h2>About TensorFlow Hub</h2>\n",
        "<p>TensorFlow Hub is an open repository and library for reusable machine learning. The tfhub. dev repository provides many pre-trained models: text embeddings, image classification models, TF. js/TFLite models and much more.  The repository is open to community contributors.</p>\n",
        "\n",
        "<br>\n",
        "\n",
        "<h2>Source</h2>\n",
        "<p>For more detailed information, you can take a look at  \n",
        "<a href=\"https://www.tensorflow.org/hub/overview#:~:text=TensorFlow%20Hub%20is%20an%20open,is%20open%20to%20community%20contributors.\">TensorFlow Hub website</a>. All these informations refered from TensorFlow Hub and <a href=\"https://www.deeplearning.ai/\">DeepLearning.AI</a>.</p>\n",
        "\n",
        "<br>\n",
        "\n",
        "<h2>Objective:</h2>\n",
        "<ul>\n",
        "  <li>Explore the Tensorflow Hub for object detection models.</li>\n",
        "  <li>Load the models in your workspace.</li>\n",
        "  <li>Preprocess an image for inference.</li>\n",
        "  <li>Run inference on the models and inspect the output.</li>\n",
        "</ul>\n",
        "\n",
        "<br>\n",
        "\n",
        "<h2>License</h2>\n",
        "<p>This model follows the <b>Apache 2.0 license</b>. If you intend to use it beyond permissable usage, please consult with the model owners ahead of time.</p>\n",
        "\n",
        "<br>\n",
        "\n",
        "<h2>Keywords</h2>\n",
        "<ul>\n",
        "  <li>Computer Science</li>\n",
        "  <li>Classification</li>\n",
        "  <li>TensorFlow Hub</li>\n",
        "  <li>Neural Networks</li>\n",
        "  <li>Desserts</li>\n",
        "  <li>TensorFlow v2</li>\n",
        "</ul>\n",
        "<br>\n",
        "\n",
        "<h2>Objective for this Notebook</h2>\n",
        "\n",
        "<p>This lab will walk you through how to use object detection models available in <a href=\"(https://www.tensorflow.org/hub\">Tensorflow Hub</a>. This project was created to provide information on how to add and use the pre-trained food classification model through TensorFlow Hub. In the following sections, you will:</p>\n",
        "\n",
        "<div class=\"alert alert-block alert-secondary\" style=\"margin-top: 20px\">\n",
        "<li><a href=\"https://#import\">Import Libraries</a></li>\n",
        "<li><a href=\"https://#import_hub\">Download the Model from Tensorflow Hub</a></li>\n",
        "<li><a href=\"https://#build_function\">Build Function for Detector</a></li>\n",
        "<li><a href=\"https://#run_inference\">Run Inference on the Image</a></li>\n",
        "<br>\n",
        "\n",
        "<p></p>\n",
        "Estimated Time Needed: <strong>15 min</strong>\n",
        "</div>"
      ],
      "metadata": {
        "id": "ShqCUdcmF1yE"
      }
    },
    {
      "cell_type": "code",
      "source": [
        "# Install this package to use Colab's GPU for training\n",
        "!apt install --allow-change-held-packages libcudnn8=8.4.1.50-1+cuda11.6"
      ],
      "metadata": {
        "id": "9Kom3HDMyxJo"
      },
      "execution_count": null,
      "outputs": []
    },
    {
      "cell_type": "markdown",
      "metadata": {
        "id": "8DkMLuGDhCR6"
      },
      "source": [
        "<br>\n",
        "<h2 align=center id=\"import\">Import Libraries</h2>\n",
        "<p>The following are the libraries we are going to use for this lab:</p>"
      ]
    },
    {
      "cell_type": "code",
      "source": [
        "# TF2 version\n",
        "import tensorflow.compat.v2 as tf\n",
        "import tensorflow_hub as hub"
      ],
      "metadata": {
        "id": "uOCETqt2Pjzx"
      },
      "execution_count": null,
      "outputs": []
    },
    {
      "cell_type": "code",
      "metadata": {
        "id": "OEoRKdmByrb0"
      },
      "source": [
        "from PIL import Image\n",
        "from PIL import ImageOps\n",
        "from skimage import io\n",
        "import numpy as np\n",
        "import cv2\n",
        "import pandas as pd\n",
        "import matplotlib.pyplot as plt\n",
        "import requests"
      ],
      "execution_count": null,
      "outputs": []
    },
    {
      "cell_type": "markdown",
      "metadata": {
        "id": "nb8MBgTOhCR6"
      },
      "source": [
        "<br>\n",
        "<h2 align=center id=\"import_hub\">Download the Model from Tensorflow Hub</h2>\n",
        "\n",
        "<p>TensorFlow Hub is a repository of trained machine learning models which you can reuse in your own projects. You can select a model to see more information about it and copy the URL so you can download it to your workspace. <i>All you need to do is click <b>Copy URL</b> on Food Classification TensorFlow Hub website.</i></p>\n",
        "\n",
        "<br>\n",
        "\n",
        "<img src=\"https://raw.githubusercontent.com/doguilmak/Food-Classification-with-TensorFlow-Hub/main/tf_hub.png\" height=300 width=1000 alt=\"tensorflow.org\">\n",
        "<small>Picture Source:<a href=\"https://tfhub.dev/google/aiy/vision/classifier/food_V1/1\"> aiy/vision/classifier/food_V1</a></small>\n",
        "\n",
        "<br>\n",
        "\n",
        "<ul>\n",
        "  <li>You can see the domains covered <a href=\"https://tfhub.dev/\">here</a> and its subcategories. </li>\n",
        "  <li>For this lab, you will want to look at the <a href=\"https://tfhub.dev/s?module-type=image-object-detection\">image object detection subcategory</a>. </li>\n",
        "  <li>We selected <a href=\"https://arxiv.org/abs/1704.04861\">MobileNet V1</a> model architecture. We used <a href=\"https://tfhub.dev/google/aiy/vision/classifier/food_V1/1\">pre-trained food classificaton model</a> via Hub.</li>\n",
        "</ul>\n",
        "\n",
        "<br>\n",
        "\n",
        "<h3>Published by</h3>\n",
        "<p><b>Google</b></p>\n",
        "\n",
        "<br>\n",
        "\n",
        "<h3>Overview</h3>\n",
        "\n",
        "<p>This model is trained to recognize <i>2023</i> food dishes from images. It is based on <i>MobileNet V1</i>.</p>\n",
        "\n",
        "<br>\n",
        "\n",
        "<h3>Input</h3>\n",
        "\n",
        "<p>This model takes images as input. Inputs are expected to be 3-channel RGB color images of size <b><i>224 x 224</i></b>, scaled to [0, 1].</p>\n",
        "\n",
        "<br>\n",
        "\n",
        "<h3>Output</h3>\n",
        "<p>This model outputs to <code>image_classifier</code>.\n",
        "\n",
        "<code>image_classifier</code>: A probability vector of dimension 2024, corresponding to a background class and one of <i>2023</i> food dishes in the labelmap.</p>\n",
        "\n",
        "<br>\n",
        "\n",
        "<h3>Known limitations</h3>\n",
        "<p>This model assumes that its input image contains a well-cropped food dish. If a non-food image is input to the model or if the dish is not well-cropped, the output of the model may be meaningless.\n",
        "This model was trained on a dataset skewed toward <b>North American foods</b>.</p>"
      ]
    },
    {
      "cell_type": "code",
      "metadata": {
        "id": "C9pCzz4uy20U"
      },
      "source": [
        "# MobileNet V1\n",
        "module_handle = \"https://tfhub.dev/google/aiy/vision/classifier/food_V1/1\"\n",
        "labelmap_url = \"https://www.gstatic.com/aihub/tfhub/labelmaps/aiy_food_V1_labelmap.csv\""
      ],
      "execution_count": null,
      "outputs": []
    },
    {
      "cell_type": "markdown",
      "metadata": {
        "id": "W3trj5FbhCR6"
      },
      "source": [
        "<h3>Load the model</h3>\n",
        "\n",
        "<p>Next, you'll load the model specified by the <code>module_handle</code>.</p>"
      ]
    },
    {
      "cell_type": "code",
      "source": [
        "m = hub.KerasLayer(module_handle)"
      ],
      "metadata": {
        "id": "S0hVpz_DPLEH"
      },
      "execution_count": null,
      "outputs": []
    },
    {
      "cell_type": "code",
      "metadata": {
        "id": "0WHkGDHfhCR6"
      },
      "source": [
        "model = hub.load(module_handle)"
      ],
      "execution_count": null,
      "outputs": []
    },
    {
      "cell_type": "markdown",
      "metadata": {
        "id": "1Ey0FpHGhCR6"
      },
      "source": [
        "<h3>Choose the default signature</h3>\n",
        "\n",
        "Some models in the Tensorflow hub can be used for different tasks. So each model's documentation should show what *signature* to use when running the model. "
      ]
    },
    {
      "cell_type": "code",
      "metadata": {
        "id": "X1BU7AGthCR6"
      },
      "source": [
        "# take a look at the available signatures for this particular model\n",
        "model.signatures.keys()"
      ],
      "execution_count": null,
      "outputs": []
    },
    {
      "cell_type": "markdown",
      "source": [
        "<p>If you want to see if a model has more than one signature then you can do something like <code>print(hub.load(module_handle).signatures.keys())</code>. In your case, the models you will be using only have the default signature so you don't have to worry about other types.</p>"
      ],
      "metadata": {
        "id": "Pcect-aHJoUs"
      }
    },
    {
      "cell_type": "code",
      "source": [
        "print(hub.load(module_handle).signatures.keys())"
      ],
      "metadata": {
        "id": "l1evpEbtJmsW"
      },
      "execution_count": null,
      "outputs": []
    },
    {
      "cell_type": "markdown",
      "metadata": {
        "id": "nfc9ax9hhCR6"
      },
      "source": [
        "Please choose the 'default' signature for your object detector.\n",
        "- For object detection models, its 'default' signature will accept a batch of image tensors and output a dictionary describing the objects detected, which is what you'll want here."
      ]
    },
    {
      "cell_type": "markdown",
      "source": [
        "<p>Let's take a look at our classes in pre-trained model from the hub. This model contains 2023 different kind of meals.</p>"
      ],
      "metadata": {
        "id": "m18uQQU8XMx7"
      }
    },
    {
      "cell_type": "code",
      "source": [
        "classes = list(pd.read_csv(labelmap_url)[\"name\"])\n",
        "len(classes)"
      ],
      "metadata": {
        "id": "SUyI_lqdUUBt"
      },
      "execution_count": null,
      "outputs": []
    },
    {
      "cell_type": "code",
      "source": [
        "classes"
      ],
      "metadata": {
        "id": "lRB5F505XR8W"
      },
      "execution_count": null,
      "outputs": []
    },
    {
      "cell_type": "markdown",
      "source": [
        "<br>\n",
        "<h2 align=center id=\"build_function\">Build Function for Detector</h2>\n",
        "\n",
        "This function will take in the object detection model <code>m</code> and the path to a sample image, then use this model to detect objects and display its predicted class categories and detection boxes.\n",
        "\n",
        "<ul>\n",
        "<li><code>run_detector</code> uses <code>image_url</code> to converts the image and makes predictions.</li>\n",
        "</ul>"
      ],
      "metadata": {
        "id": "SXlJopFPU6QU"
      }
    },
    {
      "cell_type": "code",
      "source": [
        "input_shape = (224, 224)\n",
        "\n",
        "def run_detector(image_url):\n",
        "  \n",
        "  im = Image.open(requests.get(image_url, stream=True).raw)\n",
        "  plt.figure(figsize=(15, 15))\n",
        "  plt.imshow(im)\n",
        "  plt.show()\n",
        "\n",
        "  image = np.asarray(io.imread(image_url), dtype=\"float\")\n",
        "  image = cv2.resize(image, dsize=input_shape, interpolation=cv2.INTER_CUBIC)\n",
        "  \n",
        "  # Scale values to [0, 1].\n",
        "  image = image / image.max()\n",
        "  \n",
        "  # The model expects an input of (?, 224, 224, 3).\n",
        "  images = np.expand_dims(image, 0)\n",
        "  \n",
        "  # This assumes you're using TF2.\n",
        "  output = m(images)\n",
        "  predicted_index = output.numpy().argmax()\n",
        "  classes = list(pd.read_csv(labelmap_url)[\"name\"])\n",
        "  print(f\"Prediction: {classes[predicted_index]}\")\n",
        "  \n",
        "  max_value = np.max(output.numpy())\n",
        "  print(f\"Probability: {max_value}\")"
      ],
      "metadata": {
        "id": "HQwKba2fPl2w"
      },
      "execution_count": null,
      "outputs": []
    },
    {
      "cell_type": "markdown",
      "metadata": {
        "id": "DSEeJSkxhCR7"
      },
      "source": [
        "<br>\n",
        "<h2 align=center id=\"run_inference\">Run Inference on the Image</h2>\n",
        "\n",
        "<p>You can run your detector by calling the <code>run_detector</code> function. This will print the number of objects found followed by three lists: </p>\n",
        "\n",
        "<ul>\n",
        "  <li>The detection scores of each object found (i.e. how confident the model is)</li> \n",
        "  <li>The classes of each object found.</li>\n",
        "  <li>The bounding boxes of each object.</li>\n",
        "</ul>"
      ]
    },
    {
      "cell_type": "code",
      "source": [
        "cake_url = \"https://www.inspiredtaste.net/wp-content/uploads/2022/11/Easy-Fudgy-Brownies-Recipe-2-1200.jpg\""
      ],
      "metadata": {
        "id": "Xvdsb3oaP564"
      },
      "execution_count": null,
      "outputs": []
    },
    {
      "cell_type": "code",
      "source": [
        "run_detector(cake_url)"
      ],
      "metadata": {
        "id": "ZqYSisfOQLcP"
      },
      "execution_count": null,
      "outputs": []
    },
    {
      "cell_type": "markdown",
      "source": [
        "<h1>Contact Me</h1>\n",
        "<p>If you have something to say to me please contact me:</p>\n",
        "\n",
        "<ul>\n",
        "  <li>Twitter: <a href=\"https://twitter.com/Doguilmak\">Doguilmak</a></li>\n",
        "  <li>Mail address: doguilmak@gmail.com</li>\n",
        "</ul>"
      ],
      "metadata": {
        "id": "sY-JLwvEVnCS"
      }
    },
    {
      "cell_type": "code",
      "source": [
        "from datetime import datetime\n",
        "print(f\"Changes have been made to the project on {datetime.now().strftime('%Y-%m-%d %H:%M:%S')}\")"
      ],
      "metadata": {
        "id": "ssl6vYIwVnZ6"
      },
      "execution_count": null,
      "outputs": []
    }
  ]
}